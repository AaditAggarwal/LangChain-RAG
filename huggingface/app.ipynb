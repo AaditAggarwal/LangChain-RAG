{
 "cells": [
  {
   "cell_type": "code",
   "execution_count": 108,
   "id": "03af939c",
   "metadata": {},
   "outputs": [],
   "source": [
    "from langchain_community.document_loaders import WebBaseLoader, PyPDFDirectoryLoader, PyPDFLoader\n",
    "from langchain_huggingface import HuggingFaceEmbeddings\n",
    "from langchain.text_splitter import RecursiveCharacterTextSplitter\n",
    "from langchain_core.prompts import ChatPromptTemplate\n",
    "from langchain_core.runnables import Runnable\n",
    "\n",
    "from langchain_community.vectorstores import FAISS\n",
    "from langchain.prompts import PromptTemplate\n",
    "\n",
    "from langchain.tools import Tool\n",
    "from langchain.agents import AgentExecutor, create_tool_calling_agent\n",
    "from langchain.chains import retrieval_qa\n",
    "\n",
    "from langchain.llms import Ollama\n",
    "from langchain_groq import ChatGroq\n",
    "\n",
    "from langchain_community.tools.asknews import AskNewsSearch\n",
    "\n",
    "from dotenv import load_dotenv\n",
    "import os"
   ]
  },
  {
   "cell_type": "code",
   "execution_count": 91,
   "id": "15d0b0a9",
   "metadata": {},
   "outputs": [],
   "source": [
    "str = input(\"Enter link: \")\n",
    "loader = WebBaseLoader(str)"
   ]
  },
  {
   "cell_type": "code",
   "execution_count": 99,
   "id": "3c4ff96e",
   "metadata": {},
   "outputs": [],
   "source": [
    "documents = loader.load()\n",
    "text_splitter = RecursiveCharacterTextSplitter(chunk_size = 1000, chunk_overlap = 200)\n",
    "final_docs = text_splitter.split_documents(documents)\n",
    "title = final_docs[0].metadata['title']\n",
    "description = final_docs[0].metadata['description']"
   ]
  },
  {
   "cell_type": "code",
   "execution_count": 107,
   "id": "2dacd34f",
   "metadata": {},
   "outputs": [],
   "source": [
    "embeddings = HuggingFaceEmbeddings(model_name=\"sentence-transformers/all-MiniLM-L6-v2\")\n",
    "vectors = FAISS.from_documents(final_docs, embeddings)"
   ]
  },
  {
   "cell_type": "code",
   "execution_count": 93,
   "id": "a2d16190",
   "metadata": {},
   "outputs": [],
   "source": [
    "load_dotenv()\n",
    "groq_api_key = os.environ['GROQ_API_KEY']\n",
    "llm = ChatGroq(api_key=groq_api_key, model=\"gemma2-9b-it\", temperature=0.4)"
   ]
  },
  {
   "cell_type": "code",
   "execution_count": 94,
   "id": "8f4e92ad",
   "metadata": {},
   "outputs": [],
   "source": [
    "prompt = ChatPromptTemplate.from_messages([\n",
    "    (\"system\", \"You are a neutralizer assistant that converts news headline and description into a neutral, bias-free search query suitable for finding balanced articles on the topic. Focus only on the core subject matter and important details.\"),\n",
    "    (\"human\", \"Headline {headline}\\nDescription: {description}\"),\n",
    "    (\"system\", \"Neutral Query: \")\n",
    "])"
   ]
  },
  {
   "cell_type": "code",
   "execution_count": 95,
   "id": "0505de8a",
   "metadata": {},
   "outputs": [],
   "source": [
    "chain = prompt | llm\n",
    "response = chain.invoke({\"headline\" : title, \"description\" : description})"
   ]
  },
  {
   "cell_type": "code",
   "execution_count": 96,
   "id": "bbd53a9c",
   "metadata": {},
   "outputs": [
    {
     "data": {
      "text/plain": [
       "'Indian Parliament debate on Operation Sindoor and political criticism \\n'"
      ]
     },
     "execution_count": 96,
     "metadata": {},
     "output_type": "execute_result"
    }
   ],
   "source": [
    "response.content"
   ]
  },
  {
   "cell_type": "code",
   "execution_count": null,
   "id": "5bf846bc",
   "metadata": {},
   "outputs": [],
   "source": [
    "fair_prompt = ChatPromptTemplate.from_messages([\n",
    "    (\"system\", \"\")\n",
    "])"
   ]
  },
  {
   "cell_type": "code",
   "execution_count": null,
   "id": "101ce181",
   "metadata": {},
   "outputs": [],
   "source": [
    "retriever = vectors.as_retriever()\n",
    "asknews_tool = AskNewsSearch()\n",
    "tools = [asknews_tool]\n",
    "agent = create_tool_calling_agent(llm, tools, fair_prompt)"
   ]
  }
 ],
 "metadata": {
  "kernelspec": {
   "display_name": "venv",
   "language": "python",
   "name": "python3"
  },
  "language_info": {
   "codemirror_mode": {
    "name": "ipython",
    "version": 3
   },
   "file_extension": ".py",
   "mimetype": "text/x-python",
   "name": "python",
   "nbconvert_exporter": "python",
   "pygments_lexer": "ipython3",
   "version": "3.11.0"
  }
 },
 "nbformat": 4,
 "nbformat_minor": 5
}

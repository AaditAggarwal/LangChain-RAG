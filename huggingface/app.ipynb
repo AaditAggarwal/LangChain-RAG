{
 "cells": [
  {
   "cell_type": "code",
   "execution_count": null,
   "id": "03af939c",
   "metadata": {},
   "outputs": [],
   "source": [
    "from langchain_community.document_loaders import WebBaseLoader, PyPDFDirectoryLoader, PyPDFLoader\n",
    "from langchain_community.embeddings import HuggingFaceEmbeddings\n",
    "from langchain.text_splitter import RecursiveCharacterTextSplitter\n",
    "\n",
    "from langchain_community.vectorstores import FAISS\n",
    "from langchain.prompts import PromptTemplate\n",
    "\n",
    "from langchain.chains import retrieval_qa\n",
    "\n",
    "from langchain.llms import Ollama\n",
    "from langchain_groq import ChatGroq\n",
    "\n",
    "from dotenv import load_dotenv"
   ]
  },
  {
   "cell_type": "code",
   "execution_count": 13,
   "id": "15d0b0a9",
   "metadata": {},
   "outputs": [],
   "source": [
    "str = input(\"Enter link: \")\n",
    "loader = WebBaseLoader(str)"
   ]
  },
  {
   "cell_type": "code",
   "execution_count": 14,
   "id": "3c4ff96e",
   "metadata": {},
   "outputs": [
    {
     "data": {
      "text/plain": [
       "'Brief scare for family of man slapped on IndiGo flight as he goes incommunicado, police later say he took train instead of second flight | India News - The Indian Express'"
      ]
     },
     "execution_count": 14,
     "metadata": {},
     "output_type": "execute_result"
    }
   ],
   "source": [
    "documents = loader.load()\n",
    "text_splitter = RecursiveCharacterTextSplitter(chunk_size = 1000, chunk_overlap = 200)\n",
    "final_docs = text_splitter.split_documents(documents)\n",
    "final_docs[0].metadata['title']"
   ]
  },
  {
   "cell_type": "code",
   "execution_count": 16,
   "id": "a2d16190",
   "metadata": {},
   "outputs": [
    {
     "ename": "NameError",
     "evalue": "name 'groq_api_key' is not defined",
     "output_type": "error",
     "traceback": [
      "\u001b[31m---------------------------------------------------------------------------\u001b[39m",
      "\u001b[31mNameError\u001b[39m                                 Traceback (most recent call last)",
      "\u001b[36mCell\u001b[39m\u001b[36m \u001b[39m\u001b[32mIn[16]\u001b[39m\u001b[32m, line 1\u001b[39m\n\u001b[32m----> \u001b[39m\u001b[32m1\u001b[39m llm = ChatGroq(api_key=\u001b[43mgroq_api_key\u001b[49m, model=\u001b[33m\"\u001b[39m\u001b[33mgemma2-9b-it\u001b[39m\u001b[33m\"\u001b[39m)\n",
      "\u001b[31mNameError\u001b[39m: name 'groq_api_key' is not defined"
     ]
    }
   ],
   "source": [
    "llm = ChatGroq(api_key=groq_api_key, model=\"gemma2-9b-it\")"
   ]
  },
  {
   "cell_type": "code",
   "execution_count": null,
   "id": "8f4e92ad",
   "metadata": {},
   "outputs": [],
   "source": []
  }
 ],
 "metadata": {
  "kernelspec": {
   "display_name": "venv",
   "language": "python",
   "name": "python3"
  },
  "language_info": {
   "codemirror_mode": {
    "name": "ipython",
    "version": 3
   },
   "file_extension": ".py",
   "mimetype": "text/x-python",
   "name": "python",
   "nbconvert_exporter": "python",
   "pygments_lexer": "ipython3",
   "version": "3.11.0"
  }
 },
 "nbformat": 4,
 "nbformat_minor": 5
}

{
 "cells": [
  {
   "cell_type": "code",
   "execution_count": 30,
   "id": "03af939c",
   "metadata": {},
   "outputs": [],
   "source": [
    "from langchain_community.document_loaders import WebBaseLoader, PyPDFDirectoryLoader, PyPDFLoader\n",
    "from langchain_community.embeddings import HuggingFaceEmbeddings\n",
    "from langchain.text_splitter import RecursiveCharacterTextSplitter\n",
    "from langchain_core.prompts import ChatPromptTemplate\n",
    "from langchain_core.runnables import Runnable\n",
    "\n",
    "from langchain_community.vectorstores import FAISS\n",
    "from langchain.prompts import PromptTemplate\n",
    "\n",
    "from langchain.chains import retrieval_qa\n",
    "\n",
    "from langchain.llms import Ollama\n",
    "from langchain_groq import ChatGroq\n",
    "\n",
    "from dotenv import load_dotenv\n",
    "import os"
   ]
  },
  {
   "cell_type": "code",
   "execution_count": 13,
   "id": "15d0b0a9",
   "metadata": {},
   "outputs": [],
   "source": [
    "str = input(\"Enter link: \")\n",
    "loader = WebBaseLoader(str)"
   ]
  },
  {
   "cell_type": "code",
   "execution_count": 22,
   "id": "3c4ff96e",
   "metadata": {},
   "outputs": [],
   "source": [
    "documents = loader.load()\n",
    "text_splitter = RecursiveCharacterTextSplitter(chunk_size = 1000, chunk_overlap = 200)\n",
    "final_docs = text_splitter.split_documents(documents)\n",
    "title = final_docs[0].metadata['title']"
   ]
  },
  {
   "cell_type": "code",
   "execution_count": 20,
   "id": "a2d16190",
   "metadata": {},
   "outputs": [],
   "source": [
    "load_dotenv()\n",
    "groq_api_key = os.environ['GROQ_API_KEY']\n",
    "llm = ChatGroq(api_key=groq_api_key, model=\"gemma2-9b-it\", temperature=0.4)"
   ]
  },
  {
   "cell_type": "code",
   "execution_count": 32,
   "id": "8f4e92ad",
   "metadata": {},
   "outputs": [],
   "source": [
    "prompt = ChatPromptTemplate.from_messages([\n",
    "    (\"system\", \"You are a neutralizer assistant that converts news headline into a neutral, bias-free search query suitable for finding balanced articles on the topic. Focus only on the core subject matter.\"),\n",
    "    (\"human\", \"Headline {headline}\"),\n",
    "    (\"system\", \"Neutral Query: \")\n",
    "])"
   ]
  },
  {
   "cell_type": "code",
   "execution_count": 33,
   "id": "0505de8a",
   "metadata": {},
   "outputs": [],
   "source": [
    "chain = prompt | llm\n",
    "response = chain.invoke({\"headline\" : title})"
   ]
  },
  {
   "cell_type": "code",
   "execution_count": 35,
   "id": "bbd53a9c",
   "metadata": {},
   "outputs": [
    {
     "data": {
      "text/plain": [
       "'Man missing after IndiGo flight incident \\n'"
      ]
     },
     "execution_count": 35,
     "metadata": {},
     "output_type": "execute_result"
    }
   ],
   "source": [
    "response.content"
   ]
  },
  {
   "cell_type": "code",
   "execution_count": null,
   "id": "101ce181",
   "metadata": {},
   "outputs": [],
   "source": []
  }
 ],
 "metadata": {
  "kernelspec": {
   "display_name": "venv",
   "language": "python",
   "name": "python3"
  },
  "language_info": {
   "codemirror_mode": {
    "name": "ipython",
    "version": 3
   },
   "file_extension": ".py",
   "mimetype": "text/x-python",
   "name": "python",
   "nbconvert_exporter": "python",
   "pygments_lexer": "ipython3",
   "version": "3.11.0"
  }
 },
 "nbformat": 4,
 "nbformat_minor": 5
}

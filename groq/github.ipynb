{
 "cells": [
  {
   "cell_type": "markdown",
   "id": "87cc0d13",
   "metadata": {},
   "source": [
    "# GitHub Triage Trial"
   ]
  },
  {
   "cell_type": "code",
   "execution_count": null,
   "id": "80f2a47e",
   "metadata": {
    "vscode": {
     "languageId": "plaintext"
    }
   },
   "outputs": [],
   "source": []
  }
 ],
 "metadata": {
  "language_info": {
   "name": "python"
  }
 },
 "nbformat": 4,
 "nbformat_minor": 5
}
